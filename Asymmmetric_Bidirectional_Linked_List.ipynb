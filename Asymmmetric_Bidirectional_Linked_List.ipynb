{
 "cells": [
  {
   "cell_type": "code",
   "execution_count": 522,
   "metadata": {},
   "outputs": [],
   "source": [
    "class TransitionBackError(Exception):\n",
    "    def __init__(self, message):\n",
    "        self.message = message\n",
    "\n",
    "class Node:\n",
    "    def __init__(self, data, is_bidirect):\n",
    "        self.data=data\n",
    "        self.prev=None\n",
    "        self.next=None\n",
    "        self.is_bidirect=is_bidirect\n",
    "\n",
    "class AsymLList:\n",
    "    def __init__(self,data, is_bidirect=True):\n",
    "        firstNode=Node(data,is_bidirect)\n",
    "        if is_bidirect: \n",
    "            self.back=firstNode\n",
    "        else:\n",
    "            self.back=None           \n",
    "        self.begin=firstNode\n",
    "        self.last=firstNode\n",
    "        self.current=None\n",
    "    \n",
    "    def append(self,data,is_bidirect=True):\n",
    "        newNode=Node(data,is_bidirect)\n",
    "        newNode.prev=self.back \n",
    "        self.last.next=newNode  \n",
    "        if newNode.is_bidirect:\n",
    "            self.back=newNode\n",
    "        self.last=newNode   \n",
    "        \n",
    "    def forward(self):\n",
    "        result=[]\n",
    "        ptr=self.begin\n",
    "        while ptr is not None:\n",
    "            result.append(ptr.data)\n",
    "            ptr=ptr.next\n",
    "        return result    \n",
    "    def backward(self):\n",
    "        if self.back is None:\n",
    "            #raise TransitionBackError(\"No way backward\")\n",
    "            return None\n",
    "        result=[]\n",
    "        ptr=self.back\n",
    "        while ptr is not None:\n",
    "            result.append(ptr.data)\n",
    "            ptr=ptr.prev\n",
    "        return result    \n",
    "            \n",
    "    def fwd(self):\n",
    "        if self.current is None:\n",
    "            self.current=self.begin\n",
    "        else: \n",
    "            self.current=self.current.next\n",
    "            if self.current is None:\n",
    "                self.current=self.begin\n",
    "        return self.current\n",
    "    \n",
    "    def rwd(self):\n",
    "        if self.back is None:\n",
    "            raise TransitionBackError(\"No way backward\")\n",
    "        if self.current is None:\n",
    "            self.current=self.back\n",
    "        else: \n",
    "            self.current=self.current.prev\n",
    "            if self.current is None:\n",
    "                self.current=self.back\n",
    "                \n",
    "        return self.current"
   ]
  },
  {
   "cell_type": "code",
   "execution_count": 523,
   "metadata": {},
   "outputs": [],
   "source": [
    "mylist=AsymLList(\"One\",False)"
   ]
  },
  {
   "cell_type": "code",
   "execution_count": 524,
   "metadata": {},
   "outputs": [],
   "source": [
    "mylist.append(\"Two\",False)\n",
    "mylist.append(\"Three\",False)\n",
    "mylist.append(\"Four\",False)\n",
    "mylist.append(\"Five\", False)"
   ]
  },
  {
   "cell_type": "code",
   "execution_count": 525,
   "metadata": {},
   "outputs": [
    {
     "data": {
      "text/plain": [
       "['One', 'Two', 'Three', 'Four', 'Five']"
      ]
     },
     "execution_count": 525,
     "metadata": {},
     "output_type": "execute_result"
    }
   ],
   "source": [
    "mylist.forward()"
   ]
  },
  {
   "cell_type": "code",
   "execution_count": 526,
   "metadata": {},
   "outputs": [],
   "source": [
    "mylist.backward()"
   ]
  },
  {
   "cell_type": "code",
   "execution_count": 527,
   "metadata": {},
   "outputs": [
    {
     "name": "stdout",
     "output_type": "stream",
     "text": [
      "One\n",
      "Two\n",
      "Three\n",
      "Four\n",
      "Five\n",
      "One\n"
     ]
    }
   ],
   "source": [
    "print(mylist.fwd().data)\n",
    "print(mylist.fwd().data)\n",
    "print(mylist.fwd().data)\n",
    "print(mylist.fwd().data)\n",
    "print(mylist.fwd().data)\n",
    "print(mylist.fwd().data)\n"
   ]
  },
  {
   "cell_type": "code",
   "execution_count": 528,
   "metadata": {},
   "outputs": [
    {
     "name": "stdout",
     "output_type": "stream",
     "text": [
      "Unidirectional Graph\n"
     ]
    }
   ],
   "source": [
    "try: \n",
    "    print(mylist.rwd().data)\n",
    "    print(mylist.rwd().data)\n",
    "except  TransitionBackError:\n",
    "    print(\"Unidirectional Graph\")"
   ]
  },
  {
   "cell_type": "code",
   "execution_count": null,
   "metadata": {},
   "outputs": [],
   "source": []
  },
  {
   "cell_type": "code",
   "execution_count": null,
   "metadata": {},
   "outputs": [],
   "source": []
  }
 ],
 "metadata": {
  "kernelspec": {
   "display_name": "Python 3",
   "language": "python",
   "name": "python3"
  },
  "language_info": {
   "codemirror_mode": {
    "name": "ipython",
    "version": 3
   },
   "file_extension": ".py",
   "mimetype": "text/x-python",
   "name": "python",
   "nbconvert_exporter": "python",
   "pygments_lexer": "ipython3",
   "version": "3.8.2"
  }
 },
 "nbformat": 4,
 "nbformat_minor": 4
}
