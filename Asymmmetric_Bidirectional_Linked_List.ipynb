{
 "cells": [
  {
   "cell_type": "code",
   "execution_count": 1,
   "metadata": {},
   "outputs": [],
   "source": [
    "class TransitionBackError(Exception):\n",
    "    def __init__(self, message):\n",
    "        self.message = message\n",
    "\n",
    "class Node:\n",
    "    def __init__(self, node_id, is_bidirect):\n",
    "        self.id=node_id\n",
    "        self.prev=None\n",
    "        self.next=None\n",
    "        self.is_bidirect=is_bidirect\n",
    "\n",
    "    def __str__(self):\n",
    "        return str(self.id)    \n",
    "        \n",
    "    def __repr__(self):\n",
    "        return \"Node:{} Prev:{} Next:{}\".format(self.id,self.prev,self.next)\n",
    "\n",
    "class AsymLList:\n",
    "    def __init__(self,node_id, is_bidirect=True):\n",
    "        firstNode=Node(node_id,is_bidirect)\n",
    "        if firstNode.is_bidirect: \n",
    "            self.back=firstNode\n",
    "        else:\n",
    "            self.back=None           \n",
    "        self.begin=firstNode\n",
    "        self.last=firstNode\n",
    "        self.current=None\n",
    "        \n",
    "    def append(self,data,is_bidirect=True):\n",
    "        newNode=Node(data,is_bidirect)\n",
    "        newNode.prev=self.back \n",
    "        self.last.next=newNode  \n",
    "        if newNode.is_bidirect:\n",
    "            self.back=newNode\n",
    "        self.last=newNode   \n",
    "        return self.last\n",
    "        \n",
    "    def forward(self):\n",
    "        result=[]\n",
    "        ptr=self.begin\n",
    "        while ptr is not None:\n",
    "            result.append(ptr)\n",
    "            ptr=ptr.next\n",
    "        return result    \n",
    "    \n",
    "    def backward(self):\n",
    "        if self.back is None:\n",
    "            #raise TransitionBackError(\"No way backward\")\n",
    "            return None\n",
    "        result=[]\n",
    "        ptr=self.back\n",
    "        while ptr is not None:\n",
    "            result.append(ptr)\n",
    "            ptr=ptr.prev\n",
    "        return result    \n",
    "            \n",
    "    def fwd(self):\n",
    "        if self.current is None:\n",
    "            self.current=self.begin\n",
    "        else: \n",
    "            self.current=self.current.next\n",
    "            if self.current is None:\n",
    "                self.current=self.begin\n",
    "        return self.current\n",
    "    \n",
    "    def rwd(self):\n",
    "        if self.back is None:\n",
    "            raise TransitionBackError(\"No way backward\")\n",
    "        if self.current is None:\n",
    "            self.current=self.back\n",
    "        else: \n",
    "            self.current=self.current.prev\n",
    "            if self.current is None:\n",
    "                self.current=self.back\n",
    "        return self.current"
   ]
  },
  {
   "cell_type": "code",
   "execution_count": 2,
   "metadata": {},
   "outputs": [],
   "source": [
    "mylist=AsymLList(\"One\")"
   ]
  },
  {
   "cell_type": "code",
   "execution_count": 3,
   "metadata": {},
   "outputs": [
    {
     "data": {
      "text/plain": [
       "Node:Five Prev:Four Next:None"
      ]
     },
     "execution_count": 3,
     "metadata": {},
     "output_type": "execute_result"
    }
   ],
   "source": [
    "mylist.append(\"Two\",False)\n",
    "mylist.append(\"Three\")\n",
    "mylist.append(\"Four\")\n",
    "mylist.append(\"Five\", False)"
   ]
  },
  {
   "cell_type": "code",
   "execution_count": 4,
   "metadata": {},
   "outputs": [
    {
     "data": {
      "text/plain": [
       "[Node:One Prev:None Next:Two,\n",
       " Node:Two Prev:One Next:Three,\n",
       " Node:Three Prev:One Next:Four,\n",
       " Node:Four Prev:Three Next:Five,\n",
       " Node:Five Prev:Four Next:None]"
      ]
     },
     "execution_count": 4,
     "metadata": {},
     "output_type": "execute_result"
    }
   ],
   "source": [
    "mylist.forward()"
   ]
  },
  {
   "cell_type": "code",
   "execution_count": 5,
   "metadata": {},
   "outputs": [
    {
     "data": {
      "text/plain": [
       "[Node:Four Prev:Three Next:Five,\n",
       " Node:Three Prev:One Next:Four,\n",
       " Node:One Prev:None Next:Two]"
      ]
     },
     "execution_count": 5,
     "metadata": {},
     "output_type": "execute_result"
    }
   ],
   "source": [
    "mylist.backward()"
   ]
  },
  {
   "cell_type": "code",
   "execution_count": 6,
   "metadata": {},
   "outputs": [
    {
     "name": "stdout",
     "output_type": "stream",
     "text": [
      "One\n",
      "Two\n",
      "Three\n",
      "Four\n",
      "Five\n",
      "One\n"
     ]
    }
   ],
   "source": [
    "print(mylist.fwd())\n",
    "print(mylist.fwd())\n",
    "print(mylist.fwd())\n",
    "print(mylist.fwd())\n",
    "print(mylist.fwd())\n",
    "print(mylist.fwd())\n"
   ]
  },
  {
   "cell_type": "code",
   "execution_count": 7,
   "metadata": {},
   "outputs": [
    {
     "name": "stdout",
     "output_type": "stream",
     "text": [
      "Four\n",
      "Three\n",
      "One\n"
     ]
    }
   ],
   "source": [
    "try: \n",
    "    print(mylist.rwd())\n",
    "    print(mylist.rwd())\n",
    "    print(mylist.rwd())\n",
    "except  TransitionBackError:\n",
    "    print(\"Unidirectional Graph\")"
   ]
  },
  {
   "cell_type": "code",
   "execution_count": 8,
   "metadata": {},
   "outputs": [],
   "source": [
    "daylist=AsymLList(\"Mon\",False)\n",
    "for i in [\"Tue\", \"Wed\", \"Thu\", \"Fri\", \"Sat\", \"Sun\"]:\n",
    "    daylist.append(i, False)\n",
    "\n"
   ]
  },
  {
   "cell_type": "code",
   "execution_count": 9,
   "metadata": {},
   "outputs": [
    {
     "data": {
      "text/plain": [
       "[Node:Mon Prev:None Next:Tue,\n",
       " Node:Tue Prev:None Next:Wed,\n",
       " Node:Wed Prev:None Next:Thu,\n",
       " Node:Thu Prev:None Next:Fri,\n",
       " Node:Fri Prev:None Next:Sat,\n",
       " Node:Sat Prev:None Next:Sun,\n",
       " Node:Sun Prev:None Next:None]"
      ]
     },
     "execution_count": 9,
     "metadata": {},
     "output_type": "execute_result"
    }
   ],
   "source": [
    "daylist.forward()"
   ]
  },
  {
   "cell_type": "code",
   "execution_count": 10,
   "metadata": {},
   "outputs": [],
   "source": [
    "daylist.backward()"
   ]
  },
  {
   "cell_type": "code",
   "execution_count": 11,
   "metadata": {},
   "outputs": [
    {
     "name": "stdout",
     "output_type": "stream",
     "text": [
      "Mon\n",
      "Tue\n",
      "Wed\n",
      "Thu\n",
      "Fri\n",
      "Sat\n",
      "Sun\n",
      "Mon\n"
     ]
    }
   ],
   "source": [
    "print(daylist.fwd())\n",
    "print(daylist.fwd())\n",
    "print(daylist.fwd())\n",
    "print(daylist.fwd())\n",
    "print(daylist.fwd())\n",
    "print(daylist.fwd())\n",
    "print(daylist.fwd())\n",
    "print(daylist.fwd())\n"
   ]
  },
  {
   "cell_type": "code",
   "execution_count": 12,
   "metadata": {},
   "outputs": [
    {
     "name": "stdout",
     "output_type": "stream",
     "text": [
      "Unidirectional Graph\n"
     ]
    }
   ],
   "source": [
    "try: \n",
    "    print(daylist.rwd())\n",
    "    print(daylist.rwd())\n",
    "except  TransitionBackError:\n",
    "    print(\"Unidirectional Graph\")"
   ]
  },
  {
   "cell_type": "code",
   "execution_count": null,
   "metadata": {},
   "outputs": [],
   "source": []
  }
 ],
 "metadata": {
  "kernelspec": {
   "display_name": "Python 3",
   "language": "python",
   "name": "python3"
  },
  "language_info": {
   "codemirror_mode": {
    "name": "ipython",
    "version": 3
   },
   "file_extension": ".py",
   "mimetype": "text/x-python",
   "name": "python",
   "nbconvert_exporter": "python",
   "pygments_lexer": "ipython3",
   "version": "3.8.2"
  }
 },
 "nbformat": 4,
 "nbformat_minor": 4
}
